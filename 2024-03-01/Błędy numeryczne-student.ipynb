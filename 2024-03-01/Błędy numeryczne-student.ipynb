{
 "cells": [
  {
   "cell_type": "markdown",
   "id": "different-patrol",
   "metadata": {},
   "source": [
    "# Błędy numeryczne"
   ]
  },
  {
   "cell_type": "markdown",
   "id": "laughing-breeding",
   "metadata": {},
   "source": [
    "Zagadnienia:\n",
    "* Reprezentacja liczb w komputerze:\n",
    "    * Zapis stałoprzecinkowy,\n",
    "    * Zapis zmiennoprzecinkowy (standard IEEE 754),\n",
    "* Błędy numeryczne:\n",
    "    * Błąd względny i bezwzględny.\n",
    "    * Błąd zaokrąglenia (ang. *round-off error*).\n",
    "    * Błąd obcięcia (ang. *truncation error*).\n",
    "    * Błędy związane z przyjętym sposobem rozwiązywania."
   ]
  },
  {
   "cell_type": "markdown",
   "id": "rotary-frank",
   "metadata": {},
   "source": [
    "## Błąd względny i bezwzględny"
   ]
  },
  {
   "cell_type": "markdown",
   "id": "actual-representation",
   "metadata": {},
   "source": [
    "***Zadanie 1.***  \n",
    "Liczbę $\\textrm{e}$ możemy zdefiniować jako $\\sum\\limits_{n=0}^{\\infty} \\frac{1}{n!}$. Oblicz błąd względny i bezwzględny aproksymacji liczby $\\textrm{e}$ poprzez $\\textrm{e}^{*}$ w przypadku gdy:  \n",
    "* $\\textrm{e}_1^{*}=\\sum\\limits_{n=0}^{5} \\frac{1}{n!}$    \n",
    "\n",
    "* $\\textrm{e}_2^{*}=\\sum\\limits_{n=0}^{10} \\frac{1}{n!}$  \n",
    "\n",
    "* $\\textrm{e}_3^{*}=\\sum\\limits_{n=0}^{20} \\frac{1}{n!}$  "
   ]
  },
  {
   "cell_type": "code",
   "execution_count": 2,
   "id": "chinese-mathematics",
   "metadata": {},
   "outputs": [
    {
     "name": "stdout",
     "output_type": "stream",
     "text": [
      "Błąd bezwzględny dla e_1*: 0.0016151617923787498\n",
      "Błąd względny dla e_1*: 0.0005941848175817597\n",
      "Błąd bezwzględny dla e_2*: 2.7312660577649694e-08\n",
      "Błąd względny dla e_2*: 1.0047766310211053e-08\n",
      "Błąd bezwzględny dla e_3*: 4.440892098500626e-16\n",
      "Błąd względny dla e_3*: 1.6337129034990842e-16\n"
     ]
    },
    {
     "name": "stderr",
     "output_type": "stream",
     "text": [
      "C:\\Users\\Mingo\\AppData\\Local\\Temp\\ipykernel_16096\\2471682999.py:7: DeprecationWarning: `np.math` is a deprecated alias for the standard library `math` module (Deprecated Numpy 1.25). Replace usages of `np.math` with `math`\n",
      "  e_1_star = sum(1/np.math.factorial(n) for n in range(6))\n",
      "C:\\Users\\Mingo\\AppData\\Local\\Temp\\ipykernel_16096\\2471682999.py:8: DeprecationWarning: `np.math` is a deprecated alias for the standard library `math` module (Deprecated Numpy 1.25). Replace usages of `np.math` with `math`\n",
      "  e_2_star = sum(1/np.math.factorial(n) for n in range(11))\n",
      "C:\\Users\\Mingo\\AppData\\Local\\Temp\\ipykernel_16096\\2471682999.py:9: DeprecationWarning: `np.math` is a deprecated alias for the standard library `math` module (Deprecated Numpy 1.25). Replace usages of `np.math` with `math`\n",
      "  e_3_star = sum(1/np.math.factorial(n) for n in range(21))\n"
     ]
    }
   ],
   "source": [
    "import numpy as np\n",
    "\n",
    "# Rzeczywista wartość liczby e\n",
    "e_true = np.exp(1)\n",
    "\n",
    "# Przybliżenia liczby e\n",
    "e_1_star = sum(1/np.math.factorial(n) for n in range(6))\n",
    "e_2_star = sum(1/np.math.factorial(n) for n in range(11))\n",
    "e_3_star = sum(1/np.math.factorial(n) for n in range(21))\n",
    "\n",
    "# Obliczanie błędów bezwzględnych\n",
    "abs_error_1 = abs(e_true - e_1_star)\n",
    "abs_error_2 = abs(e_true - e_2_star)\n",
    "abs_error_3 = abs(e_true - e_3_star)\n",
    "\n",
    "# Obliczanie błędów względnych\n",
    "rel_error_1 = abs_error_1 / e_true\n",
    "rel_error_2 = abs_error_2 / e_true\n",
    "rel_error_3 = abs_error_3 / e_true\n",
    "\n",
    "# Wypisanie wyników\n",
    "print(\"Błąd bezwzględny dla e_1*:\", abs_error_1)\n",
    "print(\"Błąd względny dla e_1*:\", rel_error_1)\n",
    "\n",
    "print(\"Błąd bezwzględny dla e_2*:\", abs_error_2)\n",
    "print(\"Błąd względny dla e_2*:\", rel_error_2)\n",
    "\n",
    "print(\"Błąd bezwzględny dla e_3*:\", abs_error_3)\n",
    "print(\"Błąd względny dla e_3*:\", rel_error_3)"
   ]
  },
  {
   "cell_type": "markdown",
   "id": "fiscal-momentum",
   "metadata": {},
   "source": [
    "## Zapis zmiennoprzecinkowy"
   ]
  },
  {
   "cell_type": "markdown",
   "id": "final-venezuela",
   "metadata": {},
   "source": [
    "**Uwaga**: Używane tu pojęcie **cecha** ma inne znaczenie, niż poznane być może w szkole – skrótowo: „część całkowita”. Dlatego poniżej dodawane jest inne określenie – „wykładnik”."
   ]
  },
  {
   "cell_type": "code",
   "execution_count": null,
   "id": "painful-monitoring",
   "metadata": {},
   "outputs": [],
   "source": [
    "import numpy as np\n",
    "import matplotlib.pyplot as plt\n",
    "import sys"
   ]
  },
  {
   "cell_type": "code",
   "execution_count": null,
   "id": "collectible-survivor",
   "metadata": {
    "scrolled": true
   },
   "outputs": [],
   "source": [
    "print(np.finfo(float))\n",
    "eps = np.finfo(float).eps"
   ]
  },
  {
   "cell_type": "markdown",
   "id": "registered-immigration",
   "metadata": {},
   "source": [
    "***Zadanie 2.***\n",
    "\n",
    "\n",
    "a) Wstaw dowolną wartość do liczby x, np. 0.1. Które liczby mają tę samą mantysę, a które tę samą cechę (wykładnik)? Sprawdź wypisując ich wartości w formacie hex.\n"
   ]
  },
  {
   "cell_type": "markdown",
   "id": "sapphire-tuesday",
   "metadata": {},
   "source": [
    "**Uwaga:** Do odczytania liczby w formacie szesnastkowym możesz wykorzystać funkcję:"
   ]
  },
  {
   "cell_type": "code",
   "execution_count": 4,
   "id": "concrete-webmaster",
   "metadata": {},
   "outputs": [
    {
     "data": {
      "text/plain": [
       "'0x1.4000000000000p+0'"
      ]
     },
     "execution_count": 4,
     "metadata": {},
     "output_type": "execute_result"
    }
   ],
   "source": [
    "x = 0.1\n",
    "1.25.hex()"
   ]
  },
  {
   "cell_type": "code",
   "execution_count": null,
   "id": "96e3aec4",
   "metadata": {},
   "outputs": [],
   "source": [
    "5000.0.hex()"
   ]
  },
  {
   "cell_type": "markdown",
   "id": "constant-sphere",
   "metadata": {},
   "source": [
    "lub"
   ]
  },
  {
   "cell_type": "code",
   "execution_count": null,
   "id": "humanitarian-somerset",
   "metadata": {},
   "outputs": [],
   "source": [
    "import struct\n",
    "def double_to_hex(f):\n",
    "    print(hex(struct.unpack('<Q', struct.pack('<d', f))[0]))"
   ]
  },
  {
   "cell_type": "code",
   "execution_count": 6,
   "id": "regular-possibility",
   "metadata": {
    "scrolled": true
   },
   "outputs": [
    {
     "ename": "NameError",
     "evalue": "name 'double_to_hex' is not defined",
     "output_type": "error",
     "traceback": [
      "\u001b[1;31m---------------------------------------------------------------------------\u001b[0m",
      "\u001b[1;31mNameError\u001b[0m                                 Traceback (most recent call last)",
      "Cell \u001b[1;32mIn[6], line 1\u001b[0m\n\u001b[1;32m----> 1\u001b[0m \u001b[43mdouble_to_hex\u001b[49m(\u001b[38;5;241m1.25\u001b[39m)\n",
      "\u001b[1;31mNameError\u001b[0m: name 'double_to_hex' is not defined"
     ]
    }
   ],
   "source": [
    "double_to_hex(1.25)"
   ]
  },
  {
   "cell_type": "markdown",
   "id": "heated-session",
   "metadata": {},
   "source": [
    "Zamianę w drugą stronę można przeprowadzić za pomocą funkcji *int*"
   ]
  },
  {
   "cell_type": "code",
   "execution_count": 5,
   "id": "three-butler",
   "metadata": {},
   "outputs": [
    {
     "data": {
      "text/plain": [
       "1023"
      ]
     },
     "execution_count": 5,
     "metadata": {},
     "output_type": "execute_result"
    }
   ],
   "source": [
    "int('3ff', 16)"
   ]
  },
  {
   "cell_type": "code",
   "execution_count": null,
   "id": "completed-vault",
   "metadata": {},
   "outputs": [],
   "source": [
    "int('3ff', 16)"
   ]
  },
  {
   "cell_type": "markdown",
   "id": "higher-router",
   "metadata": {},
   "source": [
    "\n",
    "\n",
    "b) Porównaj zapis liczb 0.1, 0.2 i 0.3 w formacie zmiennoprzecinkowym.\n",
    "\n",
    "* Czy można przewidzieć, czy suma 0.1 + 0.2 będzie reprezentowana dokładnie tak samo jak liczba 0.3?\n",
    "* Jaki będzie wynik porównania tej sumy z liczbą 0.3 i konsekwencje użycia warunku równościowego / nierównościowego w pętli?\n",
    "\n"
   ]
  },
  {
   "cell_type": "code",
   "execution_count": 9,
   "id": "limiting-paradise",
   "metadata": {},
   "outputs": [
    {
     "name": "stdout",
     "output_type": "stream",
     "text": [
      "0.1\n",
      "0.2\n",
      "0.3\n",
      "False\n",
      "True\n"
     ]
    }
   ],
   "source": [
    "print(0.1)\n",
    "print(0.2)\n",
    "print(0.3)\n",
    "\n",
    "print(0.1 + 0.2 == 0.3) # Zwróci False, ponieważ suma 0.1 i 0.2 nie jest dokładnie równa 0.3 ze względu na ograniczenia reprezentacji binarnej\n",
    "\n",
    "import math\n",
    "\n",
    "# Porównanie sumy z liczbą 0.3 z użyciem tolerancji\n",
    "print(math.isclose(0.1 + 0.2, 0.3, rel_tol=1e-9)) # Zwróci True, jeśli różnica jest mniejsza niż określona tolerancja"
   ]
  },
  {
   "cell_type": "markdown",
   "id": "brutal-windows",
   "metadata": {},
   "source": [
    "c) Przyjmijmy, że „skrótowe” określenie *liczba dokładnie reprezentowana* oznacza liczbę, która jest reprezentowana w formacie zmiennoprzecinkowym dokładnie, tzn. bez konieczności zaokrąglania.\n",
    "* Ile jest liczb dokładnie reprezentowanych w przedziale $[1, 2)$?\n",
    "* Zaobserwuj (z pomocą formatu hex) jakie wartości mają bity w polu mantysy w przypadku liczby 1.0.\n",
    "* Jaką liczbę trzeba dodać do 1.0, aby tylko na najmłodszej pozycji pola mantysy pojawiło się 1?\n",
    "* Czy wyżej otrzymana suma jest najmniejszą liczbą dokładnie reprezentowana, spośród liczb większych od 1?\n",
    "* Jak przypuszczasz, jakie wartości będą miały poszczególne bity mantysy w przypadku największej liczby dokładnie reprezentowanej, której cecha (wykładnik) jest równy 0? Sprawdź, czy tak jest rzeczywiście – wpisując wartość tej liczby (jaka to jest wartość?).\n"
   ]
  },
  {
   "cell_type": "code",
   "execution_count": null,
   "id": "operating-cotton",
   "metadata": {},
   "outputs": [],
   "source": []
  },
  {
   "cell_type": "markdown",
   "id": "straight-institute",
   "metadata": {},
   "source": [
    "d) Oblicz długości przedziałów, do których należą wszystkie liczby mające cechę (wykładnik) równy: 0, 1, 2, 5, -1, -3.\n",
    "\n",
    "* Czy w każdym z tych przedziałów jest tyle samo liczb dokładnie reprezentowanych? Jeżeli nie, to ile w każdym z nich?\n",
    "* Jaka jest odległość między dwoma sąsiednimi liczbami dokładnie reprezentowanymi (odległość, czyli różnica ich wartości) w każdym z tych przedziałów?\n",
    "* Jaki jest maksymalny błąd bezwzględny zaokrąglenia w każdym z tych przedziałów?\n",
    "* Jaki jest maksymalny błąd względny zaokrąglenia w każdym z tych przedziałów?\n",
    "\n",
    "\n",
    "\n"
   ]
  },
  {
   "cell_type": "code",
   "execution_count": null,
   "id": "confirmed-stream",
   "metadata": {},
   "outputs": [],
   "source": []
  },
  {
   "cell_type": "markdown",
   "id": "toxic-sixth",
   "metadata": {},
   "source": [
    "***Zadanie 3.***\n",
    "\n",
    "Spójrz na poniższe zjawiska, zastanów się nad ich przyczynami."
   ]
  },
  {
   "cell_type": "markdown",
   "id": "further-freedom",
   "metadata": {},
   "source": [
    "***Problem skali***"
   ]
  },
  {
   "cell_type": "markdown",
   "id": "removable-victory",
   "metadata": {},
   "source": [
    "Jaki wynika da poniższy kod:"
   ]
  },
  {
   "cell_type": "code",
   "execution_count": null,
   "id": "adjusted-delivery",
   "metadata": {},
   "outputs": [],
   "source": [
    "a = 1.0\n",
    "b = 0.0000000000000000000000001\n",
    "c = a + b\n",
    "print(f'{c:.17f}')"
   ]
  },
  {
   "cell_type": "markdown",
   "id": "secret-raise",
   "metadata": {},
   "source": [
    "***Problem reprezentacji w zapisie binarnym*** "
   ]
  },
  {
   "cell_type": "code",
   "execution_count": null,
   "id": "f6596f1a",
   "metadata": {},
   "outputs": [],
   "source": [
    "if 0.1+0.2==0.3:\n",
    "    print(\"True\")\n",
    "else:\n",
    "    print(\"False\")"
   ]
  },
  {
   "cell_type": "code",
   "execution_count": 1,
   "id": "cross-ranch",
   "metadata": {},
   "outputs": [
    {
     "name": "stdout",
     "output_type": "stream",
     "text": [
      "9.999999999999980\n"
     ]
    }
   ],
   "source": [
    "suma = 0\n",
    "for i in range(0,100):\n",
    "    suma += 0.1\n",
    "print(f'{suma:.15f}')"
   ]
  },
  {
   "cell_type": "markdown",
   "id": "56086598",
   "metadata": {},
   "source": [
    "**Zadanie 4.**"
   ]
  },
  {
   "cell_type": "markdown",
   "id": "35804ff5",
   "metadata": {},
   "source": [
    "Niech:\n",
    "* $a=0.3$\n",
    "* $b=10^{-13}$\n",
    "* $c=a-b$\n",
    "* $d=a-c$\n",
    "\n",
    "Czy $b$ i $d$ są sobie równe w sensie analitycznym? Co z przypadkiem numerycznym? Zdefiniuj odpowiednie zmienne i porównaj wyniki. Porównaj szesnastkowe i dziesietne reprezentacje zmiennych `b` i `d`. Ile cyfr w reprezentacji `d` możemy uznać za wiarygodne?"
   ]
  },
  {
   "cell_type": "code",
   "execution_count": 10,
   "id": "47593036",
   "metadata": {},
   "outputs": [
    {
     "name": "stdout",
     "output_type": "stream",
     "text": [
      "Czy b i d są sobie równe w sensie numerycznym? False\n",
      "Szesnastkowe reprezentacje b i d: 0x1.c25c268497682p-44 0x1.c240000000000p-44\n",
      "Dziesiętne reprezentacje b i d: 1e-13 9.997558336749535e-14\n"
     ]
    }
   ],
   "source": [
    "import math\n",
    "\n",
    "# Definiowanie zmiennych\n",
    "a = 0.3\n",
    "b = 10**-13\n",
    "c = a - b\n",
    "d = a - c\n",
    "\n",
    "# Porównanie wartości numerycznej\n",
    "print(\"Czy b i d są sobie równe w sensie numerycznym?\", math.isclose(b, d, rel_tol=1e-10))\n",
    "\n",
    "# Porównanie szesnastkowych reprezentacji\n",
    "b_hex = b.hex()\n",
    "d_hex = d.hex()\n",
    "print(\"Szesnastkowe reprezentacje b i d:\", b_hex, d_hex)\n",
    "\n",
    "# Porównanie dziesiętnych reprezentacji\n",
    "b_dec = str(b)\n",
    "d_dec = str(d)\n",
    "print(\"Dziesiętne reprezentacje b i d:\", b_dec, d_dec)\n",
    "\n",
    "# Liczba wiarygodnych cyfr w reprezentacji d\n",
    "# Zauważ, że dla zmiennych o małych wartościach, takich jak b i d, wiarygodność może być trudna do określenia\n",
    "# Możemy jednak zauważyć, że różnica między b i d jest bardzo mała, co sugeruje, że wartości mogą być praktycznie równe"
   ]
  },
  {
   "cell_type": "markdown",
   "id": "57bcce2e",
   "metadata": {},
   "source": [
    "**Zadanie 5.**"
   ]
  },
  {
   "cell_type": "markdown",
   "id": "33dd498c",
   "metadata": {},
   "source": [
    "Rozważmy macierz kwadratową:\n",
    "$$ A=\\left[\\begin{array}{ccc}\n",
    "\\sqrt{2} & \\frac{1}{7}\\\\\n",
    "\\pi\\sqrt{2} &\\frac{\\pi}{7}\\\\\n",
    "\\end{array}\\right]\n",
    "$$\n",
    "* Czy jest to macierz osobliwa? Jak to sprawdzić?\n",
    "* Oblicz wyznacznik tej macierzy w sposób analityczny i numeryczny (`np.linalg.det`). Czy otrzymałeś te same wartości? Czy wyniki obliczeń numerycznych prowadzą do poprawnej odpowiedzi na pierwsze pytanie? Jakie może to mieć skutki?"
   ]
  },
  {
   "cell_type": "code",
   "execution_count": 11,
   "id": "7b46d638",
   "metadata": {},
   "outputs": [
    {
     "name": "stdout",
     "output_type": "stream",
     "text": [
      "Wyznacznik macierzy A (analitycznie): 0.0\n",
      "Wyznacznik macierzy A (numerycznie): 0.0\n"
     ]
    }
   ],
   "source": [
    "import numpy as np\n",
    "\n",
    "# Definiowanie macierzy A\n",
    "A = np.array([[np.sqrt(2), 1/7],\n",
    "              [np.pi*np.sqrt(2), np.pi/7]])\n",
    "\n",
    "#Sprawdzanie, czy macierz A jest osobliwa\n",
    "#Macierz kwadratowa jest osobliwa, jeśli jej wyznacznik jest równy zero. Możemy to sprawdzić obliczając wyznacznik macierzy (A) zarówno analitycznie, jak i numerycznie.\n",
    "\n",
    "# Obliczenie wyznacznika macierzy A analitycznie\n",
    "det_A_analytical = A[0, 0] * A[1, 1] - A[0, 1] * A[1, 0]\n",
    "print(\"Wyznacznik macierzy A (analitycznie):\", det_A_analytical)\n",
    "\n",
    "# Obliczenie wyznacznika macierzy A numerycznie\n",
    "det_A_numerical = np.linalg.det(A)\n",
    "print(\"Wyznacznik macierzy A (numerycznie):\", det_A_numerical)"
   ]
  },
  {
   "cell_type": "markdown",
   "id": "4db8468c",
   "metadata": {},
   "source": [
    "**Zadanie 6.**"
   ]
  },
  {
   "cell_type": "markdown",
   "id": "e1f226f5",
   "metadata": {},
   "source": [
    "Jedną z metod rozwiązywania równań nieliniowych jest metoda Newtona. Metoda ta powtarza obliczenia, aż spełniony nie będzie warunek stopu. Jeżeli spełnione są odpowiednie założenia to metoda ta zbiega do rozwiązania. Załóżmy, że warunki są spełnione i rozważmy funkcję $f(x)=cos(x)-x$. Poniżej znajdziesz implementację metody Newtona, w której brakuje warunku stopu. Spróbuj go uzupełnić. Warunek powinien być spełniony w momencie, w którym chcemy zakończyć działanie procedury.\n",
    "\n",
    "Z matematycznego punktu widzenia znajdujemy się w zerze, jeżeli kolejne przybliżenia uzyskane z metody Newtona nie różnią się od siebie (np. dwa ostatnie). Zaimplementuj taki warunek i sprawdź, czy program zatrzyma się. Czy taki warunek stopu jest bezpieczny i można go stosować uniwersalnie? Jak można go poprawić?"
   ]
  },
  {
   "cell_type": "code",
   "execution_count": 13,
   "id": "26eb839f",
   "metadata": {},
   "outputs": [],
   "source": [
    "def newton(f, f_prim, x_0, tolerance=1e-6):\n",
    "    x_prev = x_0\n",
    "    while True:\n",
    "        x_n = x_prev - (f(x_prev) / f_prim(x_prev))\n",
    "        print(f'x_n={x_n}')\n",
    "        \n",
    "        # Warunek stopu\n",
    "        if abs(x_n - x_prev) < tolerance:\n",
    "            return x_n\n",
    "        else:\n",
    "            x_prev = x_n"
   ]
  },
  {
   "cell_type": "code",
   "execution_count": 14,
   "id": "8c8e359e",
   "metadata": {},
   "outputs": [],
   "source": [
    "def f(x):\n",
    "    return np.cos(x) - x\n",
    "\n",
    "def f_prim(x):\n",
    "    return -np.sin(x) - 1"
   ]
  },
  {
   "cell_type": "code",
   "execution_count": 15,
   "id": "03aa3df9",
   "metadata": {},
   "outputs": [
    {
     "name": "stdout",
     "output_type": "stream",
     "text": [
      "x_n=0.7503638678402439\n",
      "x_n=0.7391128909113617\n",
      "x_n=0.739085133385284\n",
      "x_n=0.7390851332151607\n",
      "Znaleziony zerowy: x = 0.7390851332151607\n"
     ]
    }
   ],
   "source": [
    "# Inicjalizacja\n",
    "x_0 = 1.0 # Początkowe przybliżenie\n",
    "tolerance = 1e-6 # Tolerancja warunku stopu\n",
    "\n",
    "# Wywołanie metody Newtona\n",
    "root = newton(f, f_prim, x_0, tolerance)\n",
    "print(f\"Znaleziony zerowy: x = {root}\")"
   ]
  },
  {
   "cell_type": "markdown",
   "id": "republican-insider",
   "metadata": {},
   "source": [
    "**Zadanie domowe**  \n",
    "\n",
    "Dany jest ciąg:  \n",
    "  \n",
    "$G(p)=\\cfrac{1}{p}\\left[10^{p}\\left(1+p\\pi^{*} \\cdot 10^{-p}\\right)-10^{p}\\right],\\ p=1,2,3,\\dots,n $,\n",
    "w którym $\\pi^{*}$ jest przybliżeniem liczby $\\pi$ z dokładnością do 15 miejsc po przecinku.\n",
    "  \n",
    "Stwórz funkcję, która umożliwi obliczenie $n$ pierwszych wyrazów tego ciągu i zwróci je w postaci wektora (do przybliżenia wartości $\\pi$ możesz wykorzystać funkcję *[round](https://numpy.org/doc/stable/reference/generated/numpy.round_.html)*). Oblicz błąd bezwzględny i błąd względny otrzymanych wyników. Przedstaw rezultaty na wykresie w zależności od $n$. Wartości błędów przedstaw w skali logarytmicznej (funkcja *plt.semilogy()*).\n",
    "\n",
    "Przeanalizuj rozwiązanie i odpowiedz na następujące pytania:  \n",
    "* Czy w obliczeniach analitycznych wartość $G(p)$ zależy od $p$?\n",
    "* Jak zmienia się błąd w zależności od $n$? O czym to świadczy?\n",
    "* Z jakim/jakimi rodzajami błędu mamy do czynienie?\n"
   ]
  },
  {
   "cell_type": "code",
   "execution_count": 12,
   "id": "regular-malpractice",
   "metadata": {},
   "outputs": [
    {
     "data": {
      "image/png": "[encoded data removed]",
      "text/plain": [
       "<Figure size 1000x600 with 2 Axes>"
      ]
     },
     "metadata": {},
     "output_type": "display_data"
    }
   ],
   "source": [
    "import numpy as np\n",
    "import matplotlib.pyplot as plt\n",
    "\n",
    "def calculate_G_sequence(n, pi_star=np.pi):\n",
    "    # Przybliżenie liczby pi do 15 miejsc po przecinku\n",
    "    pi_star_rounded = round(pi_star, 15)\n",
    "    \n",
    "    # Obliczenie ciągu G(p)\n",
    "    G = []\n",
    "    for p in range(1, n+1):\n",
    "        term = 1 / p * (10**p * (1 + p * pi_star_rounded * 10**(-p)) - 10**p)\n",
    "        G.append(term)\n",
    "    \n",
    "    return np.array(G)\n",
    "\n",
    "# Przykładowe obliczenie ciągu\n",
    "n = 10\n",
    "G_sequence = calculate_G_sequence(n)\n",
    "\n",
    "# Obliczenie błędów\n",
    "absolute_errors = np.abs(G_sequence - np.pi)\n",
    "relative_errors = absolute_errors / np.pi\n",
    "\n",
    "# Wizualizacja błędów\n",
    "plt.figure(figsize=(10, 6))\n",
    "\n",
    "plt.subplot(1, 2, 1)\n",
    "plt.semilogy(np.arange(1, n+1), absolute_errors, 'o-', label='Błąd bezwzględny')\n",
    "plt.title('Błąd bezwzględny')\n",
    "plt.xlabel('p')\n",
    "plt.ylabel('Błąd')\n",
    "plt.legend()\n",
    "\n",
    "plt.subplot(1, 2, 2)\n",
    "plt.semilogy(np.arange(1, n+1), relative_errors, 'o-', label='Błąd względny')\n",
    "plt.title('Błąd względny')\n",
    "plt.xlabel('p')\n",
    "plt.ylabel('Błąd')\n",
    "plt.legend()\n",
    "\n",
    "plt.tight_layout()\n",
    "plt.show()\n",
    "\n",
    "#Czy w obliczeniach analitycznych wartość $G(p)$ zależy od $p$?\n",
    "#Tak, wartość G(p) zależy od p.\n",
    "\n",
    "#Jak zmienia się błąd w zależności od n O czym to świadczy?\n",
    "# Błąd względny i bezwzględny zmniejsza się wraz ze wzrostem n. To świadczy o tym, że zwiększanie liczby wyrazów w ciągu pozwala na bardziej dokładne przybliżenie wartości liczby \n",
    "\n",
    "#Z jakim/jakimi rodzajami błędu mamy do czynienia?\n",
    "# Mamy do czynienia z błędem zaokrąglenia, który wynika z przybliżania liczby n do 15 miejsc po przecinku oraz błędem numerycznym wynikającym z obliczeń numerycznych na komputerze."
   ]
  }
 ],
 "metadata": {
  "kernelspec": {
   "display_name": "Python 3 (ipykernel)",
   "language": "python",
   "name": "python3"
  },
  "language_info": {
   "codemirror_mode": {
    "name": "ipython",
    "version": 3
   },
   "file_extension": ".py",
   "mimetype": "text/x-python",
   "name": "python",
   "nbconvert_exporter": "python",
   "pygments_lexer": "ipython3",
   "version": "3.10.6"
  }
 },
 "nbformat": 4,
 "nbformat_minor": 5
}
